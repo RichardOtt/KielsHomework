{
 "cells": [
  {
   "cell_type": "markdown",
   "metadata": {},
   "source": [
    "# U substitution"
   ]
  },
  {
   "cell_type": "markdown",
   "metadata": {},
   "source": [
    "When you do u-substitution, you are looking to get rid of things that you _don't know_ how to integrate.  Here's a simple example:"
   ]
  },
  {
   "cell_type": "markdown",
   "metadata": {},
   "source": [
    "$$\\int \\sqrt{2 x - 3} \\,dx$$\n",
    "\n",
    "We don't know what to do with that directly, so we want to get it to something we do.  I know how to integrate $\\sqrt{x}$, and we _almost_ have that, so let's aim there.  We just need to bundle everything under the square root together\n",
    "\n",
    "$$u = 2 x - 3 \\qquad du = 2 dx$$\n",
    "\n",
    "Now, we just need to replace things - and that includes the $dx$, we have to only have $u$ in our equation at the end.  There are a bunch of ways to do this, but the easiest in my mind is to solve the $du = 2 dx$ equation\n",
    "\n",
    "$$dx = \\frac{1}{2} du$$\n",
    "\n",
    "and replace and integrate\n",
    "\n",
    "$$\\int \\sqrt{u} \\frac{1}{2} \\,du = \\frac{1}{2}\\int \\sqrt{u} \\,du = \\frac{1}{2} \\frac{2}{3} u^{\\frac{2}{3}} + C = \\frac{1}{3}u^{\\frac{2}{3}} + C$$\n",
    "\n",
    "Now we turn our $u$ back in to it's equivalent in $x$\n",
    "\n",
    "$$\\frac{1}{3}u^{\\frac{2}{3}} + C = \\frac{1}{3} (2 x - 3)^{\\frac{2}{3}} + C$$"
   ]
  },
  {
   "cell_type": "markdown",
   "metadata": {},
   "source": [
    "That was a straightfoward one, as are ones like\n",
    "$$\\int x e^{x^2}dx$$\n",
    "(for this one, we just use $u = x^2$)\n",
    "\n",
    "But there are ones where you need to think a bit more.  Let's do one of those\n",
    "\n",
    "$$\\int x^3 \\sqrt{x^2 + 3}\\,dx$$\n",
    "\n",
    "Now, the first thing we need to figure out is \"what do we use for $u$\"?  Well, we have a thing inside a square root, that's no good.  We need to get rid of that.  So we'll choose\n",
    "\n",
    "$$u = x^2 + 3 \\qquad du = 2 x \\,dx$$\n",
    "\n",
    "Ok, now we have some work to do.  We _must_ get rid of all the $x$'s.  We can start by solving for that $dx$ again\n",
    "\n",
    "$$dx = \\frac{du}{2x}$$\n",
    "\n",
    "And we substitute\n",
    "\n",
    "$$\\int x^3 \\sqrt{x^2 + 3}\\,dx = \\int x^3 \\sqrt{u}\\,\\frac{du}{2x} = \\int \\frac{x^3}{2x} \\sqrt{u}\\,du = \n",
    "\\int \\frac{1}{2} x^2 \\sqrt{u}\\, du$$\n",
    "\n",
    "Well, now what?  We've got both $u$ and $x$ in there, and that's no good.  So let's solve for $x$ in terms of $u$\n",
    "\n",
    "$$x^2 = u - 3$$\n",
    "\n",
    "Ah, let's put that in\n",
    "\n",
    "$$\\int \\frac{1}{2} (u-3) \\sqrt{u}\\, du = \\frac{1}{2}\\int u^{\\frac{2}{3}} - 3 u^{\\frac{1}{2}}\\,du =\n",
    "\\frac{1}{2} \\frac{2}{5} u^{\\frac{5}{2}} - \\frac{3}{2} \\frac{2}{3} u^{\\frac{3}{2}} + C=\n",
    "\\frac{1}{5} u^{\\frac{5}{2}} - u^{\\frac{3}{2}} + C$$\n",
    "\n",
    "And we put the $u$ back in\n",
    "\n",
    "$$\\frac{1}{5} (x^2 + 3)^{\\frac{5}{2}} - (x^2 + 3)^{\\frac{3}{2}} + C$$"
   ]
  },
  {
   "cell_type": "markdown",
   "metadata": {},
   "source": [
    "_Why_ can't we mix $x$ and $u$?  Here's why - we get to pick anything we want for $u$.  Let's take as an example\n",
    "\n",
    "$$\\int x^6 dx$$\n",
    "\n",
    "We can, of course, just integrate this.  But we could choose to do any number of u-subs.  Here's one\n",
    "\n",
    "$$u = x^2 \\qquad du = 2 x$$\n",
    "\n",
    "Which gives us\n",
    "\n",
    "$$\\int u x^4\\frac{1}{2x} du = \\int \\frac{1}{2} x^3 u du$$\n",
    "\n",
    "Or, we could choose\n",
    "\n",
    "$$u = x^3 \\qquad du = 3 x^2$$\n",
    "\n",
    "Which gives us\n",
    "\n",
    "$$\\int u x^3 \\frac{1}{3x} du = \\int \\frac{1}{3} x^2 u du$$\n",
    "\n",
    "And so on.  If we just integrated the u part, or just the x part, we get very different answers in these two cases, even though they're the same"
   ]
  },
  {
   "cell_type": "code",
   "execution_count": null,
   "metadata": {},
   "outputs": [],
   "source": []
  }
 ],
 "metadata": {
  "kernelspec": {
   "display_name": "Python 3",
   "language": "python",
   "name": "python3"
  },
  "language_info": {
   "codemirror_mode": {
    "name": "ipython",
    "version": 3
   },
   "file_extension": ".py",
   "mimetype": "text/x-python",
   "name": "python",
   "nbconvert_exporter": "python",
   "pygments_lexer": "ipython3",
   "version": "3.6.2"
  }
 },
 "nbformat": 4,
 "nbformat_minor": 2
}
